{
  "nbformat": 4,
  "nbformat_minor": 0,
  "metadata": {
    "colab": {
      "provenance": []
    },
    "kernelspec": {
      "name": "python3",
      "display_name": "Python 3"
    },
    "language_info": {
      "name": "python"
    }
  },
  "cells": [
    {
      "cell_type": "code",
      "source": [
        "# 1. Import library\n",
        "import pandas as pd\n",
        "import matplotlib.pyplot as plt\n",
        "from sklearn.model_selection import train_test_split\n",
        "from sklearn.preprocessing import StandardScaler\n",
        "from sklearn.linear_model import LogisticRegression\n",
        "from sklearn.tree import DecisionTreeClassifier\n",
        "from sklearn.metrics import (\n",
        "    classification_report, confusion_matrix, roc_auc_score,\n",
        "    accuracy_score, precision_score, recall_score, f1_score\n",
        ")"
      ],
      "metadata": {
        "id": "cV_vF2N-02tK"
      },
      "execution_count": 11,
      "outputs": []
    },
    {
      "cell_type": "code",
      "source": [
        "# 2. Load fact_sales (hasil ETL Bab 2)\n",
        "fact_sales = pd.read_csv(\"/content/fact_sales.csv\")"
      ],
      "metadata": {
        "id": "PhlZgOy-aNVV"
      },
      "execution_count": 12,
      "outputs": []
    },
    {
      "cell_type": "code",
      "source": [
        "# 3. Buat target variable (Churn Flag)\n",
        "# Asumsi churn: customer tidak ada order lagi dalam 6 bulan terakhir\n",
        "fact_sales['order_purchase_timestamp'] = pd.to_datetime(fact_sales['order_purchase_timestamp'])\n",
        "last_date = fact_sales['order_purchase_timestamp'].max()\n",
        "\n",
        "customer_last_order = (\n",
        "    fact_sales.groupby(\"customer_id\")['order_purchase_timestamp']\n",
        "    .max()\n",
        "    .reset_index()\n",
        ")\n",
        "customer_last_order['days_since_last_order'] = (\n",
        "    last_date - customer_last_order['order_purchase_timestamp']\n",
        ").dt.days\n",
        "customer_last_order['churn'] = (\n",
        "    customer_last_order['days_since_last_order'] > 180\n",
        ").astype(int)"
      ],
      "metadata": {
        "id": "94DKir9waNXl"
      },
      "execution_count": 13,
      "outputs": []
    },
    {
      "cell_type": "code",
      "source": [
        "# 4. Buat fitur agregat per customer\n",
        "agg_features = (\n",
        "    fact_sales.groupby(\"customer_id\").agg({\n",
        "        \"revenue\": \"sum\",\n",
        "        \"order_id\": \"nunique\",\n",
        "        \"payment_value\": \"sum\",\n",
        "        \"review_score\": \"mean\"\n",
        "    }).reset_index()\n",
        ")\n",
        "\n",
        "# Handle missing values\n",
        "agg_features = agg_features.fillna({\n",
        "    \"revenue\": 0,\n",
        "    \"order_id\": 0,\n",
        "    \"payment_value\": 0,\n",
        "    \"review_score\": 3.0  # netral rating\n",
        "})\n",
        "\n",
        "# Merge dengan churn flag\n",
        "agg_features = agg_features.merge(\n",
        "    customer_last_order[['customer_id', 'churn']],\n",
        "    on=\"customer_id\"\n",
        ")"
      ],
      "metadata": {
        "id": "LdpYRe4laNZ6"
      },
      "execution_count": 14,
      "outputs": []
    },
    {
      "cell_type": "code",
      "source": [
        "# 5. Split data train-test\n",
        "X = agg_features.drop(columns=['customer_id', 'churn'])\n",
        "y = agg_features['churn']\n",
        "\n",
        "X_train, X_test, y_train, y_test = train_test_split(\n",
        "    X, y, test_size=0.2, random_state=42, stratify=y\n",
        ")\n"
      ],
      "metadata": {
        "id": "8V8_cC15aNcS"
      },
      "execution_count": 15,
      "outputs": []
    },
    {
      "cell_type": "code",
      "source": [
        "# 6. Scaling (hanya untuk model linear seperti Logistic Regression)\n",
        "scaler = StandardScaler()\n",
        "X_train_scaled = scaler.fit_transform(X_train)\n",
        "X_test_scaled = scaler.transform(X_test)"
      ],
      "metadata": {
        "id": "2jAvOsLmaNeW"
      },
      "execution_count": 16,
      "outputs": []
    },
    {
      "cell_type": "code",
      "source": [
        "# 7. Modeling Logistic Regression\n",
        "logreg = LogisticRegression(max_iter=1000, random_state=42)\n",
        "logreg.fit(X_train_scaled, y_train)\n",
        "\n",
        "y_pred_log = logreg.predict(X_test_scaled)\n",
        "y_prob_log = logreg.predict_proba(X_test_scaled)[:, 1]"
      ],
      "metadata": {
        "id": "k09H6HoeaNgt"
      },
      "execution_count": 17,
      "outputs": []
    },
    {
      "cell_type": "code",
      "source": [
        "# 9. Evaluasi kedua model\n",
        "results = []\n",
        "\n",
        "# Logistic Regression\n",
        "results.append({\n",
        "    \"Model\": \"Logistic Regression\",\n",
        "    \"Accuracy\": accuracy_score(y_test, y_pred_log),\n",
        "    \"Precision\": precision_score(y_test, y_pred_log),\n",
        "    \"Recall\": recall_score(y_test, y_pred_log),\n",
        "    \"F1\": f1_score(y_test, y_pred_log),\n",
        "    \"ROC AUC\": roc_auc_score(y_test, y_prob_log)\n",
        "})\n",
        "\n",
        "# Decision Tree\n",
        "results.append({\n",
        "    \"Model\": \"Decision Tree\",\n",
        "    \"Accuracy\": accuracy_score(y_test, y_pred_dt),\n",
        "    \"Precision\": precision_score(y_test, y_pred_dt),\n",
        "    \"Recall\": recall_score(y_test, y_pred_dt),\n",
        "    \"F1\": f1_score(y_test, y_pred_dt),\n",
        "    \"ROC AUC\": roc_auc_score(y_test, y_prob_dt)\n",
        "})\n",
        "\n",
        "results_df = pd.DataFrame(results)\n",
        "print(\"\\n📊 Perbandingan Model:\\n\", results_df)"
      ],
      "metadata": {
        "colab": {
          "base_uri": "https://localhost:8080/"
        },
        "id": "qheio5MTaNi_",
        "outputId": "ef8cb391-bd6d-4a5e-96bd-e873e467152a"
      },
      "execution_count": 18,
      "outputs": [
        {
          "output_type": "stream",
          "name": "stdout",
          "text": [
            "\n",
            "📊 Perbandingan Model:\n",
            "                  Model  Accuracy  Precision    Recall        F1   ROC AUC\n",
            "0  Logistic Regression  0.609101   0.609081  1.000000  0.757055  0.528685\n",
            "1        Decision Tree  0.792490   0.827276  0.833264  0.830259  0.781277\n"
          ]
        }
      ]
    },
    {
      "cell_type": "code",
      "metadata": {
        "id": "67b6b772"
      },
      "source": [
        "# 8. Modeling Decision Tree\n",
        "dt_clf = DecisionTreeClassifier(random_state=42)\n",
        "dt_clf.fit(X_train, y_train) # Using non-scaled data for Decision Tree\n",
        "\n",
        "y_pred_dt = dt_clf.predict(X_test)\n",
        "y_prob_dt = dt_clf.predict_proba(X_test)[:, 1]"
      ],
      "execution_count": 19,
      "outputs": []
    },
    {
      "cell_type": "code",
      "source": [
        "# 10. Visualisasi perbandingan\n",
        "results_df.set_index(\"Model\")[[\"Accuracy\",\"Precision\",\"Recall\",\"F1\",\"ROC AUC\"]].plot(\n",
        "    kind=\"bar\", figsize=(10,6), rot=0, colormap=\"viridis\"\n",
        ")\n",
        "plt.title(\"Perbandingan Logistic Regression vs Decision Tree\")\n",
        "plt.ylabel(\"Score\")\n",
        "plt.ylim(0,1)\n",
        "plt.show()"
      ],
      "metadata": {
        "colab": {
          "base_uri": "https://localhost:8080/",
          "height": 564
        },
        "id": "_tv-4uUVaNlq",
        "outputId": "091d1431-db1f-4213-d5c3-32a00f2c41a1"
      },
      "execution_count": 20,
      "outputs": [
        {
          "output_type": "display_data",
          "data": {
            "text/plain": [
              "<Figure size 1000x600 with 1 Axes>"
            ],
            "image/png": "[encoded data removed]"
          },
          "metadata": {}
        }
      ]
    },
    {
      "cell_type": "code",
      "source": [
        "# 11. Kesimpulan singkat\n",
        "best_model = results_df.sort_values(by=\"ROC AUC\", ascending=False).iloc[0]\n",
        "print(f\"\\n✅ Model terbaik berdasarkan ROC AUC adalah: {best_model['Model']} dengan skor {best_model['ROC AUC']:.3f}\")"
      ],
      "metadata": {
        "colab": {
          "base_uri": "https://localhost:8080/"
        },
        "id": "LcAstPInaNoK",
        "outputId": "8cfb94ef-b0a9-4138-a7cf-3276f138c248"
      },
      "execution_count": 21,
      "outputs": [
        {
          "output_type": "stream",
          "name": "stdout",
          "text": [
            "\n",
            "✅ Model terbaik berdasarkan ROC AUC adalah: Decision Tree dengan skor 0.781\n"
          ]
        }
      ]
    },
    {
      "cell_type": "code",
      "source": [],
      "metadata": {
        "id": "LBigCb4IaNqx"
      },
      "execution_count": 21,
      "outputs": []
    },
    {
      "cell_type": "code",
      "source": [],
      "metadata": {
        "id": "HvegFUxCaNte"
      },
      "execution_count": 21,
      "outputs": []
    },
    {
      "cell_type": "code",
      "source": [],
      "metadata": {
        "id": "zZOTDMzRaNw2"
      },
      "execution_count": 21,
      "outputs": []
    },
    {
      "cell_type": "code",
      "source": [],
      "metadata": {
        "id": "8eppR99S0ON7"
      },
      "execution_count": 21,
      "outputs": []
    },
    {
      "cell_type": "code",
      "source": [],
      "metadata": {
        "id": "O4MMGIC70OQF"
      },
      "execution_count": 21,
      "outputs": []
    },
    {
      "cell_type": "code",
      "source": [],
      "metadata": {
        "id": "UDZXotKq0OTj"
      },
      "execution_count": 21,
      "outputs": []
    }
  ]
}